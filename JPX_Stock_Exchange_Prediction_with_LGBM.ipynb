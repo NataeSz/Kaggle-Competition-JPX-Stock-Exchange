{
 "cells": [
  {
   "cell_type": "markdown",
   "id": "11385981",
   "metadata": {
    "papermill": {
     "duration": 0.029356,
     "end_time": "2022-05-21T18:17:17.016232",
     "exception": false,
     "start_time": "2022-05-21T18:17:16.986876",
     "status": "completed"
    },
    "tags": []
   },
   "source": [
    "# JPX Tokyo Stock Exchange Prediction <span style=\"color:DarkCyan\"> with LGBM</span>"
   ]
  },
  {
   "cell_type": "markdown",
   "id": "9afd7d0c",
   "metadata": {
    "papermill": {
     "duration": 0.024058,
     "end_time": "2022-05-21T18:17:17.064467",
     "exception": false,
     "start_time": "2022-05-21T18:17:17.040409",
     "status": "completed"
    },
    "tags": []
   },
   "source": [
    "Thank you for viewing my notebook, I hope you enjoy it 📊<br>\n",
    "Don't hesitate to leave any feedback 😉"
   ]
  },
  {
   "cell_type": "markdown",
   "id": "42bf9849",
   "metadata": {
    "papermill": {
     "duration": 0.021111,
     "end_time": "2022-05-21T18:17:17.106980",
     "exception": false,
     "start_time": "2022-05-21T18:17:17.085869",
     "status": "completed"
    },
    "tags": []
   },
   "source": [
    "# Table of Contents\n",
    "1. [Overview](#Overview)\n",
    "1. [Load JPX data](#Load-JPX-data)\n",
    "2. [Preprocess](#Preprocess)\n",
    "3. [Train the LGBM Model](#Train-the-LGBM-Model)\n",
    "4. [Predict Test Data](#Predict-Test-Data)\n",
    "5. [Submit](#Submit)"
   ]
  },
  {
   "cell_type": "markdown",
   "id": "138dbc91",
   "metadata": {
    "papermill": {
     "duration": 0.020966,
     "end_time": "2022-05-21T18:17:17.149305",
     "exception": false,
     "start_time": "2022-05-21T18:17:17.128339",
     "status": "completed"
    },
    "tags": []
   },
   "source": [
    "# Overview"
   ]
  },
  {
   "cell_type": "markdown",
   "id": "2bb52957",
   "metadata": {
    "papermill": {
     "duration": 0.022442,
     "end_time": "2022-05-21T18:17:17.193012",
     "exception": false,
     "start_time": "2022-05-21T18:17:17.170570",
     "status": "completed"
    },
    "tags": []
   },
   "source": [
    "In this notebook, I will build a <span style=\"color:DarkCyan\">Light Gradient Boosting Model</span> for the [JPX Tokyo Stock Exchange Prediction Competition](https://www.kaggle.com/competitions/jpx-tokyo-stock-exchange-prediction)."
   ]
  },
  {
   "cell_type": "markdown",
   "id": "509b64f1",
   "metadata": {
    "execution": {
     "iopub.execute_input": "2022-05-21T17:23:16.785436Z",
     "iopub.status.busy": "2022-05-21T17:23:16.785042Z",
     "iopub.status.idle": "2022-05-21T17:23:16.807887Z",
     "shell.execute_reply": "2022-05-21T17:23:16.807231Z",
     "shell.execute_reply.started": "2022-05-21T17:23:16.785345Z"
    },
    "papermill": {
     "duration": 0.020993,
     "end_time": "2022-05-21T18:17:17.235599",
     "exception": false,
     "start_time": "2022-05-21T18:17:17.214606",
     "status": "completed"
    },
    "tags": []
   },
   "source": [
    "### Quick introduction to <span style=\"color:DarkCyan\">LGBM</span>"
   ]
  },
  {
   "cell_type": "markdown",
   "id": "f5d9c900",
   "metadata": {
    "papermill": {
     "duration": 0.020872,
     "end_time": "2022-05-21T18:17:17.279458",
     "exception": false,
     "start_time": "2022-05-21T18:17:17.258586",
     "status": "completed"
    },
    "tags": []
   },
   "source": [
    "[Light GBM](https://medium.com/@pushkarmandot/https-medium-com-pushkarmandot-what-is-lightgbm-how-to-implement-it-how-to-fine-tune-the-parameters-60347819b7fc) is a gradient boosting model that uses decision tree algorithm.<br>\n",
    "<span style=\"color:DarkCyan\">Light GBM</span> grows tree vertically while other gradient boosting algorithms (e.g. XGBoost) grow trees horizontally.<br>\n",
    "<span style=\"color:DarkCyan\">LGBM</span> chooses the leaf with max delta loss to grow. Holding leaf fixed, leaf-wise algorithms tend to achieve lower loss than level-wise algorithms."
   ]
  },
  {
   "cell_type": "code",
   "execution_count": 1,
   "id": "5da13151",
   "metadata": {
    "_cell_guid": "82ba0dd7-c919-42f8-8898-3b32b11a4ec1",
    "_uuid": "3ce4494f-66a9-4bfb-a606-17da929f9465",
    "collapsed": false,
    "execution": {
     "iopub.execute_input": "2022-05-21T18:17:17.335047Z",
     "iopub.status.busy": "2022-05-21T18:17:17.334351Z",
     "iopub.status.idle": "2022-05-21T18:17:19.265120Z",
     "shell.execute_reply": "2022-05-21T18:17:19.264464Z"
    },
    "jupyter": {
     "outputs_hidden": false
    },
    "papermill": {
     "duration": 1.96216,
     "end_time": "2022-05-21T18:17:19.267246",
     "exception": false,
     "start_time": "2022-05-21T18:17:17.305086",
     "status": "completed"
    },
    "tags": []
   },
   "outputs": [
    {
     "data": {
      "text/html": [
       "<style type='text/css'>\n",
       ".datatable table.frame { margin-bottom: 0; }\n",
       ".datatable table.frame thead { border-bottom: none; }\n",
       ".datatable table.frame tr.coltypes td {  color: #FFFFFF;  line-height: 6px;  padding: 0 0.5em;}\n",
       ".datatable .bool    { background: #DDDD99; }\n",
       ".datatable .object  { background: #565656; }\n",
       ".datatable .int     { background: #5D9E5D; }\n",
       ".datatable .float   { background: #4040CC; }\n",
       ".datatable .str     { background: #CC4040; }\n",
       ".datatable .time    { background: #40CC40; }\n",
       ".datatable .row_index {  background: var(--jp-border-color3);  border-right: 1px solid var(--jp-border-color0);  color: var(--jp-ui-font-color3);  font-size: 9px;}\n",
       ".datatable .frame tbody td { text-align: left; }\n",
       ".datatable .frame tr.coltypes .row_index {  background: var(--jp-border-color0);}\n",
       ".datatable th:nth-child(2) { padding-left: 12px; }\n",
       ".datatable .hellipsis {  color: var(--jp-cell-editor-border-color);}\n",
       ".datatable .vellipsis {  background: var(--jp-layout-color0);  color: var(--jp-cell-editor-border-color);}\n",
       ".datatable .na {  color: var(--jp-cell-editor-border-color);  font-size: 80%;}\n",
       ".datatable .sp {  opacity: 0.25;}\n",
       ".datatable .footer { font-size: 9px; }\n",
       ".datatable .frame_dimensions {  background: var(--jp-border-color3);  border-top: 1px solid var(--jp-border-color0);  color: var(--jp-ui-font-color3);  display: inline-block;  opacity: 0.6;  padding: 1px 10px 1px 5px;}\n",
       "</style>\n"
      ],
      "text/plain": [
       "<IPython.core.display.HTML object>"
      ]
     },
     "metadata": {},
     "output_type": "display_data"
    }
   ],
   "source": [
    "import numpy as np\n",
    "import pandas as pd\n",
    "from pathlib import Path\n",
    "from sklearn.model_selection import train_test_split\n",
    "import lightgbm as lgb\n",
    "import jpx_tokyo_market_prediction\n",
    "\n",
    "pd.set_option('display.max_columns', 100)"
   ]
  },
  {
   "cell_type": "code",
   "execution_count": 2,
   "id": "01e3dbb9",
   "metadata": {
    "_cell_guid": "7bcf28ff-07cb-4beb-8958-bdd82ef34c28",
    "_uuid": "902b718f-f092-4a54-84a6-9da7cef68914",
    "collapsed": false,
    "execution": {
     "iopub.execute_input": "2022-05-21T18:17:19.314284Z",
     "iopub.status.busy": "2022-05-21T18:17:19.313710Z",
     "iopub.status.idle": "2022-05-21T18:17:19.318236Z",
     "shell.execute_reply": "2022-05-21T18:17:19.317606Z"
    },
    "jupyter": {
     "outputs_hidden": false
    },
    "papermill": {
     "duration": 0.0299,
     "end_time": "2022-05-21T18:17:19.319858",
     "exception": false,
     "start_time": "2022-05-21T18:17:19.289958",
     "status": "completed"
    },
    "tags": []
   },
   "outputs": [],
   "source": [
    "lgbm_params = {\n",
    "    'task': 'train',\n",
    "    'boosting_type': 'gbdt',  # gbdt - traditional Gradient Boosting Decision Tree\n",
    "    'objective': 'regression',  # L2 loss\n",
    "    'metric': 'rmse',\n",
    "    'learning_rate': 0.05,\n",
    "    'lambda_l1': 0.5,  # L1 regularization\n",
    "    'lambda_l2': 0.5,  # L2 regularization\n",
    "    'num_leaves': 10,\n",
    "    'feature_fraction': 0.5,  # LightGBM will select 50% of features before training each tree\n",
    "    'bagging_fraction': 0.5,  # LightGBM will select 50% part of data without resampling\n",
    "    'bagging_freq': 5,  #  perform bagging at every k iteration\n",
    "    'min_child_samples': 10,\n",
    "    'seed': 42\n",
    "}"
   ]
  },
  {
   "cell_type": "markdown",
   "id": "afba5dd2",
   "metadata": {
    "papermill": {
     "duration": 0.021585,
     "end_time": "2022-05-21T18:17:19.363393",
     "exception": false,
     "start_time": "2022-05-21T18:17:19.341808",
     "status": "completed"
    },
    "tags": []
   },
   "source": [
    "Load datasets"
   ]
  },
  {
   "cell_type": "markdown",
   "id": "8aa9f216",
   "metadata": {
    "papermill": {
     "duration": 0.021685,
     "end_time": "2022-05-21T18:17:19.407158",
     "exception": false,
     "start_time": "2022-05-21T18:17:19.385473",
     "status": "completed"
    },
    "tags": []
   },
   "source": [
    "# Load JPX data"
   ]
  },
  {
   "cell_type": "code",
   "execution_count": 3,
   "id": "4c8f8a9b",
   "metadata": {
    "_cell_guid": "81099b8e-8a34-4874-82b0-3c3bd8f36fda",
    "_uuid": "473fd34a-f2b6-425b-80fb-2e9adfa2dc11",
    "collapsed": false,
    "execution": {
     "iopub.execute_input": "2022-05-21T18:17:19.453065Z",
     "iopub.status.busy": "2022-05-21T18:17:19.452560Z",
     "iopub.status.idle": "2022-05-21T18:17:24.897171Z",
     "shell.execute_reply": "2022-05-21T18:17:24.896267Z"
    },
    "jupyter": {
     "outputs_hidden": false
    },
    "papermill": {
     "duration": 5.470377,
     "end_time": "2022-05-21T18:17:24.899425",
     "exception": false,
     "start_time": "2022-05-21T18:17:19.429048",
     "status": "completed"
    },
    "tags": []
   },
   "outputs": [],
   "source": [
    "file_path = '/kaggle/input/jpx-tokyo-stock-exchange-prediction/'\n",
    "prices = pd.read_csv(Path(file_path, 'train_files/stock_prices.csv'))\n",
    "stock_list = pd.read_csv(Path(file_path, 'stock_list.csv'))"
   ]
  },
  {
   "cell_type": "code",
   "execution_count": 4,
   "id": "2dcf015b",
   "metadata": {
    "execution": {
     "iopub.execute_input": "2022-05-21T18:17:24.947500Z",
     "iopub.status.busy": "2022-05-21T18:17:24.947220Z",
     "iopub.status.idle": "2022-05-21T18:17:24.969059Z",
     "shell.execute_reply": "2022-05-21T18:17:24.968194Z"
    },
    "papermill": {
     "duration": 0.04893,
     "end_time": "2022-05-21T18:17:24.970957",
     "exception": false,
     "start_time": "2022-05-21T18:17:24.922027",
     "status": "completed"
    },
    "tags": []
   },
   "outputs": [
    {
     "data": {
      "text/html": [
       "<div>\n",
       "<style scoped>\n",
       "    .dataframe tbody tr th:only-of-type {\n",
       "        vertical-align: middle;\n",
       "    }\n",
       "\n",
       "    .dataframe tbody tr th {\n",
       "        vertical-align: top;\n",
       "    }\n",
       "\n",
       "    .dataframe thead th {\n",
       "        text-align: right;\n",
       "    }\n",
       "</style>\n",
       "<table border=\"1\" class=\"dataframe\">\n",
       "  <thead>\n",
       "    <tr style=\"text-align: right;\">\n",
       "      <th></th>\n",
       "      <th>RowId</th>\n",
       "      <th>Date</th>\n",
       "      <th>SecuritiesCode</th>\n",
       "      <th>Open</th>\n",
       "      <th>High</th>\n",
       "      <th>Low</th>\n",
       "      <th>Close</th>\n",
       "      <th>Volume</th>\n",
       "      <th>AdjustmentFactor</th>\n",
       "      <th>ExpectedDividend</th>\n",
       "      <th>SupervisionFlag</th>\n",
       "      <th>Target</th>\n",
       "    </tr>\n",
       "  </thead>\n",
       "  <tbody>\n",
       "    <tr>\n",
       "      <th>0</th>\n",
       "      <td>20170104_1301</td>\n",
       "      <td>2017-01-04</td>\n",
       "      <td>1301</td>\n",
       "      <td>2734.0</td>\n",
       "      <td>2755.0</td>\n",
       "      <td>2730.0</td>\n",
       "      <td>2742.0</td>\n",
       "      <td>31400</td>\n",
       "      <td>1.0</td>\n",
       "      <td>NaN</td>\n",
       "      <td>False</td>\n",
       "      <td>0.000730</td>\n",
       "    </tr>\n",
       "    <tr>\n",
       "      <th>1</th>\n",
       "      <td>20170104_1332</td>\n",
       "      <td>2017-01-04</td>\n",
       "      <td>1332</td>\n",
       "      <td>568.0</td>\n",
       "      <td>576.0</td>\n",
       "      <td>563.0</td>\n",
       "      <td>571.0</td>\n",
       "      <td>2798500</td>\n",
       "      <td>1.0</td>\n",
       "      <td>NaN</td>\n",
       "      <td>False</td>\n",
       "      <td>0.012324</td>\n",
       "    </tr>\n",
       "    <tr>\n",
       "      <th>2</th>\n",
       "      <td>20170104_1333</td>\n",
       "      <td>2017-01-04</td>\n",
       "      <td>1333</td>\n",
       "      <td>3150.0</td>\n",
       "      <td>3210.0</td>\n",
       "      <td>3140.0</td>\n",
       "      <td>3210.0</td>\n",
       "      <td>270800</td>\n",
       "      <td>1.0</td>\n",
       "      <td>NaN</td>\n",
       "      <td>False</td>\n",
       "      <td>0.006154</td>\n",
       "    </tr>\n",
       "    <tr>\n",
       "      <th>3</th>\n",
       "      <td>20170104_1376</td>\n",
       "      <td>2017-01-04</td>\n",
       "      <td>1376</td>\n",
       "      <td>1510.0</td>\n",
       "      <td>1550.0</td>\n",
       "      <td>1510.0</td>\n",
       "      <td>1550.0</td>\n",
       "      <td>11300</td>\n",
       "      <td>1.0</td>\n",
       "      <td>NaN</td>\n",
       "      <td>False</td>\n",
       "      <td>0.011053</td>\n",
       "    </tr>\n",
       "    <tr>\n",
       "      <th>4</th>\n",
       "      <td>20170104_1377</td>\n",
       "      <td>2017-01-04</td>\n",
       "      <td>1377</td>\n",
       "      <td>3270.0</td>\n",
       "      <td>3350.0</td>\n",
       "      <td>3270.0</td>\n",
       "      <td>3330.0</td>\n",
       "      <td>150800</td>\n",
       "      <td>1.0</td>\n",
       "      <td>NaN</td>\n",
       "      <td>False</td>\n",
       "      <td>0.003026</td>\n",
       "    </tr>\n",
       "  </tbody>\n",
       "</table>\n",
       "</div>"
      ],
      "text/plain": [
       "           RowId        Date  SecuritiesCode    Open    High     Low   Close  \\\n",
       "0  20170104_1301  2017-01-04            1301  2734.0  2755.0  2730.0  2742.0   \n",
       "1  20170104_1332  2017-01-04            1332   568.0   576.0   563.0   571.0   \n",
       "2  20170104_1333  2017-01-04            1333  3150.0  3210.0  3140.0  3210.0   \n",
       "3  20170104_1376  2017-01-04            1376  1510.0  1550.0  1510.0  1550.0   \n",
       "4  20170104_1377  2017-01-04            1377  3270.0  3350.0  3270.0  3330.0   \n",
       "\n",
       "    Volume  AdjustmentFactor  ExpectedDividend  SupervisionFlag    Target  \n",
       "0    31400               1.0               NaN            False  0.000730  \n",
       "1  2798500               1.0               NaN            False  0.012324  \n",
       "2   270800               1.0               NaN            False  0.006154  \n",
       "3    11300               1.0               NaN            False  0.011053  \n",
       "4   150800               1.0               NaN            False  0.003026  "
      ]
     },
     "execution_count": 4,
     "metadata": {},
     "output_type": "execute_result"
    }
   ],
   "source": [
    "prices.head()"
   ]
  },
  {
   "cell_type": "markdown",
   "id": "e5113372",
   "metadata": {
    "papermill": {
     "duration": 0.022366,
     "end_time": "2022-05-21T18:17:25.016433",
     "exception": false,
     "start_time": "2022-05-21T18:17:24.994067",
     "status": "completed"
    },
    "tags": []
   },
   "source": [
    "Display information about main dataset"
   ]
  },
  {
   "cell_type": "code",
   "execution_count": 5,
   "id": "5e598644",
   "metadata": {
    "execution": {
     "iopub.execute_input": "2022-05-21T18:17:25.063441Z",
     "iopub.status.busy": "2022-05-21T18:17:25.063153Z",
     "iopub.status.idle": "2022-05-21T18:17:25.323010Z",
     "shell.execute_reply": "2022-05-21T18:17:25.321872Z"
    },
    "papermill": {
     "duration": 0.290105,
     "end_time": "2022-05-21T18:17:25.329426",
     "exception": false,
     "start_time": "2022-05-21T18:17:25.039321",
     "status": "completed"
    },
    "tags": []
   },
   "outputs": [
    {
     "name": "stdout",
     "output_type": "stream",
     "text": [
      "<class 'pandas.core.frame.DataFrame'>\n",
      "RangeIndex: 2332531 entries, 0 to 2332530\n",
      "Data columns (total 12 columns):\n",
      " #   Column            Non-Null Count    Dtype  \n",
      "---  ------            --------------    -----  \n",
      " 0   RowId             2332531 non-null  object \n",
      " 1   Date              2332531 non-null  object \n",
      " 2   SecuritiesCode    2332531 non-null  int64  \n",
      " 3   Open              2324923 non-null  float64\n",
      " 4   High              2324923 non-null  float64\n",
      " 5   Low               2324923 non-null  float64\n",
      " 6   Close             2324923 non-null  float64\n",
      " 7   Volume            2332531 non-null  int64  \n",
      " 8   AdjustmentFactor  2332531 non-null  float64\n",
      " 9   ExpectedDividend  18865 non-null    float64\n",
      " 10  SupervisionFlag   2332531 non-null  bool   \n",
      " 11  Target            2332293 non-null  float64\n",
      "dtypes: bool(1), float64(7), int64(2), object(2)\n",
      "memory usage: 198.0+ MB\n"
     ]
    }
   ],
   "source": [
    "prices.info(show_counts=True)"
   ]
  },
  {
   "cell_type": "markdown",
   "id": "220ed6ee",
   "metadata": {
    "papermill": {
     "duration": 0.022546,
     "end_time": "2022-05-21T18:17:25.378952",
     "exception": false,
     "start_time": "2022-05-21T18:17:25.356406",
     "status": "completed"
    },
    "tags": []
   },
   "source": []
  },
  {
   "cell_type": "markdown",
   "id": "78c85c9c",
   "metadata": {
    "papermill": {
     "duration": 0.022686,
     "end_time": "2022-05-21T18:17:25.424463",
     "exception": false,
     "start_time": "2022-05-21T18:17:25.401777",
     "status": "completed"
    },
    "tags": []
   },
   "source": [
    "# Preprocess"
   ]
  },
  {
   "cell_type": "markdown",
   "id": "26043a22",
   "metadata": {
    "papermill": {
     "duration": 0.022789,
     "end_time": "2022-05-21T18:17:25.470353",
     "exception": false,
     "start_time": "2022-05-21T18:17:25.447564",
     "status": "completed"
    },
    "tags": []
   },
   "source": [
    "Manage data id: add variable describing how many days have passed from the beginning of the dataset "
   ]
  },
  {
   "cell_type": "code",
   "execution_count": 6,
   "id": "d27c708a",
   "metadata": {
    "_cell_guid": "82644a49-1fef-4ea1-9611-cc22070ae80b",
    "_uuid": "d73cefa8-8625-4afd-a516-5240ca5ff31f",
    "collapsed": false,
    "execution": {
     "iopub.execute_input": "2022-05-21T18:17:25.517479Z",
     "iopub.status.busy": "2022-05-21T18:17:25.517178Z",
     "iopub.status.idle": "2022-05-21T18:17:25.846607Z",
     "shell.execute_reply": "2022-05-21T18:17:25.845892Z"
    },
    "jupyter": {
     "outputs_hidden": false
    },
    "papermill": {
     "duration": 0.355358,
     "end_time": "2022-05-21T18:17:25.848578",
     "exception": false,
     "start_time": "2022-05-21T18:17:25.493220",
     "status": "completed"
    },
    "tags": []
   },
   "outputs": [],
   "source": [
    "prices['Date'] = pd.to_datetime(prices['Date'])\n",
    "min_date = prices['Date'].min()\n",
    "prices['date_rank'] = (prices['Date'] - min_date).dt.days"
   ]
  },
  {
   "cell_type": "markdown",
   "id": "f38357e9",
   "metadata": {
    "papermill": {
     "duration": 0.023133,
     "end_time": "2022-05-21T18:17:25.894711",
     "exception": false,
     "start_time": "2022-05-21T18:17:25.871578",
     "status": "completed"
    },
    "tags": []
   },
   "source": [
    "Choose features to use as independent variables in the model"
   ]
  },
  {
   "cell_type": "code",
   "execution_count": 7,
   "id": "13ed34b6",
   "metadata": {
    "_cell_guid": "aa77a40b-041a-4878-aa7f-09fad7e2a440",
    "_uuid": "36e29f03-1c69-4070-823e-f79793a424e8",
    "collapsed": false,
    "execution": {
     "iopub.execute_input": "2022-05-21T18:17:25.942203Z",
     "iopub.status.busy": "2022-05-21T18:17:25.941629Z",
     "iopub.status.idle": "2022-05-21T18:17:25.945384Z",
     "shell.execute_reply": "2022-05-21T18:17:25.944631Z"
    },
    "jupyter": {
     "outputs_hidden": false
    },
    "papermill": {
     "duration": 0.030239,
     "end_time": "2022-05-21T18:17:25.947695",
     "exception": false,
     "start_time": "2022-05-21T18:17:25.917456",
     "status": "completed"
    },
    "tags": []
   },
   "outputs": [],
   "source": [
    "features = ['Open', 'High', 'Low', 'Close', 'Volume', 'date_rank', 'SecuritiesCode']"
   ]
  },
  {
   "cell_type": "code",
   "execution_count": 8,
   "id": "39b94d2b",
   "metadata": {
    "_cell_guid": "3d39c168-943f-46dd-a7d9-7a5864a233d5",
    "_uuid": "c78704e4-3401-4df6-b9e1-3dddca1738e5",
    "collapsed": false,
    "execution": {
     "iopub.execute_input": "2022-05-21T18:17:25.995156Z",
     "iopub.status.busy": "2022-05-21T18:17:25.994573Z",
     "iopub.status.idle": "2022-05-21T18:17:26.310195Z",
     "shell.execute_reply": "2022-05-21T18:17:26.309360Z"
    },
    "jupyter": {
     "outputs_hidden": false
    },
    "papermill": {
     "duration": 0.342134,
     "end_time": "2022-05-21T18:17:26.312800",
     "exception": false,
     "start_time": "2022-05-21T18:17:25.970666",
     "status": "completed"
    },
    "tags": []
   },
   "outputs": [],
   "source": [
    "prices = prices.dropna(subset=features)"
   ]
  },
  {
   "cell_type": "code",
   "execution_count": 9,
   "id": "c85d59b9",
   "metadata": {
    "_cell_guid": "d841e782-1a5e-48a1-8cd8-d795b028a39c",
    "_uuid": "20b0c4e1-02e7-44ad-897e-202cb45b1b7d",
    "collapsed": false,
    "execution": {
     "iopub.execute_input": "2022-05-21T18:17:26.361725Z",
     "iopub.status.busy": "2022-05-21T18:17:26.361243Z",
     "iopub.status.idle": "2022-05-21T18:17:26.372780Z",
     "shell.execute_reply": "2022-05-21T18:17:26.371996Z"
    },
    "jupyter": {
     "outputs_hidden": false
    },
    "papermill": {
     "duration": 0.037718,
     "end_time": "2022-05-21T18:17:26.374927",
     "exception": false,
     "start_time": "2022-05-21T18:17:26.337209",
     "status": "completed"
    },
    "tags": []
   },
   "outputs": [],
   "source": [
    "target = prices.pop('Target')\n",
    "target_mean = target.mean()"
   ]
  },
  {
   "cell_type": "code",
   "execution_count": 10,
   "id": "a1012f87",
   "metadata": {
    "_cell_guid": "accaae2b-c56f-4730-88d0-e9b25b26399b",
    "_uuid": "bfc4d7b8-b69a-42b3-94bb-45c11251df8e",
    "collapsed": false,
    "execution": {
     "iopub.execute_input": "2022-05-21T18:17:26.422608Z",
     "iopub.status.busy": "2022-05-21T18:17:26.422346Z",
     "iopub.status.idle": "2022-05-21T18:17:27.307875Z",
     "shell.execute_reply": "2022-05-21T18:17:27.307030Z"
    },
    "jupyter": {
     "outputs_hidden": false
    },
    "papermill": {
     "duration": 0.912303,
     "end_time": "2022-05-21T18:17:27.310257",
     "exception": false,
     "start_time": "2022-05-21T18:17:26.397954",
     "status": "completed"
    },
    "tags": []
   },
   "outputs": [],
   "source": [
    "train_f, valid_f = train_test_split(prices[features], test_size=0.2)\n",
    "train_idx = train_f.index\n",
    "valid_idx = valid_f.index\n",
    "lgb_train = lgb.Dataset(train_f, target[train_idx])\n",
    "lgb_valid = lgb.Dataset(valid_f, target[valid_idx], reference=lgb_train)"
   ]
  },
  {
   "cell_type": "code",
   "execution_count": 11,
   "id": "321c9c6d",
   "metadata": {
    "_cell_guid": "ac843688-567a-4214-ac61-48ac2acab668",
    "_uuid": "c4b341c8-9816-4fef-9cfa-38193ac22d4d",
    "collapsed": false,
    "execution": {
     "iopub.execute_input": "2022-05-21T18:17:27.359819Z",
     "iopub.status.busy": "2022-05-21T18:17:27.359064Z",
     "iopub.status.idle": "2022-05-21T18:17:27.371374Z",
     "shell.execute_reply": "2022-05-21T18:17:27.370536Z"
    },
    "jupyter": {
     "outputs_hidden": false
    },
    "papermill": {
     "duration": 0.039958,
     "end_time": "2022-05-21T18:17:27.373287",
     "exception": false,
     "start_time": "2022-05-21T18:17:27.333329",
     "status": "completed"
    },
    "tags": []
   },
   "outputs": [
    {
     "data": {
      "text/html": [
       "<div>\n",
       "<style scoped>\n",
       "    .dataframe tbody tr th:only-of-type {\n",
       "        vertical-align: middle;\n",
       "    }\n",
       "\n",
       "    .dataframe tbody tr th {\n",
       "        vertical-align: top;\n",
       "    }\n",
       "\n",
       "    .dataframe thead th {\n",
       "        text-align: right;\n",
       "    }\n",
       "</style>\n",
       "<table border=\"1\" class=\"dataframe\">\n",
       "  <thead>\n",
       "    <tr style=\"text-align: right;\">\n",
       "      <th></th>\n",
       "      <th>Open</th>\n",
       "      <th>High</th>\n",
       "      <th>Low</th>\n",
       "      <th>Close</th>\n",
       "      <th>Volume</th>\n",
       "      <th>date_rank</th>\n",
       "      <th>SecuritiesCode</th>\n",
       "    </tr>\n",
       "  </thead>\n",
       "  <tbody>\n",
       "    <tr>\n",
       "      <th>878967</th>\n",
       "      <td>1237.0</td>\n",
       "      <td>1242.0</td>\n",
       "      <td>1235.0</td>\n",
       "      <td>1236.0</td>\n",
       "      <td>3100</td>\n",
       "      <td>684</td>\n",
       "      <td>7979</td>\n",
       "    </tr>\n",
       "    <tr>\n",
       "      <th>381129</th>\n",
       "      <td>9170.0</td>\n",
       "      <td>9300.0</td>\n",
       "      <td>9100.0</td>\n",
       "      <td>9300.0</td>\n",
       "      <td>294600</td>\n",
       "      <td>296</td>\n",
       "      <td>3932</td>\n",
       "    </tr>\n",
       "    <tr>\n",
       "      <th>1607804</th>\n",
       "      <td>3350.0</td>\n",
       "      <td>3350.0</td>\n",
       "      <td>3145.0</td>\n",
       "      <td>3160.0</td>\n",
       "      <td>26700</td>\n",
       "      <td>1254</td>\n",
       "      <td>6866</td>\n",
       "    </tr>\n",
       "    <tr>\n",
       "      <th>587058</th>\n",
       "      <td>10880.0</td>\n",
       "      <td>10930.0</td>\n",
       "      <td>10800.0</td>\n",
       "      <td>10860.0</td>\n",
       "      <td>36300</td>\n",
       "      <td>461</td>\n",
       "      <td>1766</td>\n",
       "    </tr>\n",
       "    <tr>\n",
       "      <th>1163607</th>\n",
       "      <td>1706.0</td>\n",
       "      <td>1706.0</td>\n",
       "      <td>1628.0</td>\n",
       "      <td>1660.0</td>\n",
       "      <td>1800</td>\n",
       "      <td>910</td>\n",
       "      <td>9823</td>\n",
       "    </tr>\n",
       "  </tbody>\n",
       "</table>\n",
       "</div>"
      ],
      "text/plain": [
       "            Open     High      Low    Close  Volume  date_rank  SecuritiesCode\n",
       "878967    1237.0   1242.0   1235.0   1236.0    3100        684            7979\n",
       "381129    9170.0   9300.0   9100.0   9300.0  294600        296            3932\n",
       "1607804   3350.0   3350.0   3145.0   3160.0   26700       1254            6866\n",
       "587058   10880.0  10930.0  10800.0  10860.0   36300        461            1766\n",
       "1163607   1706.0   1706.0   1628.0   1660.0    1800        910            9823"
      ]
     },
     "execution_count": 11,
     "metadata": {},
     "output_type": "execute_result"
    }
   ],
   "source": [
    "train_f.head()"
   ]
  },
  {
   "cell_type": "markdown",
   "id": "4c96171b",
   "metadata": {
    "papermill": {
     "duration": 0.026007,
     "end_time": "2022-05-21T18:17:27.425343",
     "exception": false,
     "start_time": "2022-05-21T18:17:27.399336",
     "status": "completed"
    },
    "tags": []
   },
   "source": [
    "# Train the <span style=\"color:DarkCyan\">LGBM</span> Model"
   ]
  },
  {
   "cell_type": "code",
   "execution_count": 12,
   "id": "b56475a6",
   "metadata": {
    "_cell_guid": "ac843688-567a-4214-ac61-48ac2acab668",
    "_uuid": "c4b341c8-9816-4fef-9cfa-38193ac22d4d",
    "collapsed": false,
    "execution": {
     "iopub.execute_input": "2022-05-21T18:17:27.477133Z",
     "iopub.status.busy": "2022-05-21T18:17:27.476589Z",
     "iopub.status.idle": "2022-05-21T18:19:09.284405Z",
     "shell.execute_reply": "2022-05-21T18:19:09.283434Z"
    },
    "jupyter": {
     "outputs_hidden": false
    },
    "papermill": {
     "duration": 101.836882,
     "end_time": "2022-05-21T18:19:09.287283",
     "exception": false,
     "start_time": "2022-05-21T18:17:27.450401",
     "status": "completed"
    },
    "tags": []
   },
   "outputs": [
    {
     "name": "stderr",
     "output_type": "stream",
     "text": [
      "/opt/conda/lib/python3.7/site-packages/lightgbm/engine.py:181: UserWarning: 'early_stopping_rounds' argument is deprecated and will be removed in a future release of LightGBM. Pass 'early_stopping()' callback via 'callbacks' argument instead.\n",
      "  _log_warning(\"'early_stopping_rounds' argument is deprecated and will be removed in a future release of LightGBM. \"\n",
      "/opt/conda/lib/python3.7/site-packages/lightgbm/engine.py:239: UserWarning: 'verbose_eval' argument is deprecated and will be removed in a future release of LightGBM. Pass 'log_evaluation()' callback via 'callbacks' argument instead.\n",
      "  _log_warning(\"'verbose_eval' argument is deprecated and will be removed in a future release of LightGBM. \"\n"
     ]
    },
    {
     "name": "stdout",
     "output_type": "stream",
     "text": [
      "[LightGBM] [Warning] Auto-choosing col-wise multi-threading, the overhead of testing was 0.080197 seconds.\n",
      "You can set `force_col_wise=true` to remove the overhead.\n",
      "[LightGBM] [Info] Total Bins 1785\n",
      "[LightGBM] [Info] Number of data points in the train set: 1859938, number of used features: 7\n",
      "[LightGBM] [Info] Start training from score 0.000423\n",
      "Training until validation scores don't improve for 100 rounds\n",
      "[100]\tTrain's rmse: 0.0230613\tValid's rmse: 0.023107\n",
      "[200]\tTrain's rmse: 0.0229713\tValid's rmse: 0.0230172\n",
      "[300]\tTrain's rmse: 0.022911\tValid's rmse: 0.0229581\n",
      "[400]\tTrain's rmse: 0.0228713\tValid's rmse: 0.02292\n",
      "[500]\tTrain's rmse: 0.0228455\tValid's rmse: 0.0228963\n",
      "[600]\tTrain's rmse: 0.0228231\tValid's rmse: 0.0228769\n",
      "[700]\tTrain's rmse: 0.022805\tValid's rmse: 0.022861\n",
      "[800]\tTrain's rmse: 0.0227924\tValid's rmse: 0.0228512\n",
      "[900]\tTrain's rmse: 0.0227832\tValid's rmse: 0.0228445\n",
      "[1000]\tTrain's rmse: 0.0227729\tValid's rmse: 0.022838\n",
      "[1100]\tTrain's rmse: 0.0227656\tValid's rmse: 0.0228338\n",
      "[1200]\tTrain's rmse: 0.0227577\tValid's rmse: 0.0228281\n",
      "[1300]\tTrain's rmse: 0.0227491\tValid's rmse: 0.0228221\n",
      "[1400]\tTrain's rmse: 0.0227429\tValid's rmse: 0.0228182\n",
      "[1500]\tTrain's rmse: 0.0227372\tValid's rmse: 0.0228154\n",
      "[1600]\tTrain's rmse: 0.0227317\tValid's rmse: 0.0228122\n",
      "[1700]\tTrain's rmse: 0.0227269\tValid's rmse: 0.0228107\n",
      "[1800]\tTrain's rmse: 0.0227216\tValid's rmse: 0.0228077\n",
      "[1900]\tTrain's rmse: 0.0227175\tValid's rmse: 0.0228058\n",
      "[2000]\tTrain's rmse: 0.0227129\tValid's rmse: 0.0228037\n",
      "Did not meet early stopping. Best iteration is:\n",
      "[2000]\tTrain's rmse: 0.0227129\tValid's rmse: 0.0228037\n"
     ]
    }
   ],
   "source": [
    "model = lgb.train(\n",
    "    lgbm_params,\n",
    "    lgb_train,\n",
    "    valid_sets=[lgb_train, lgb_valid],\n",
    "    valid_names=['Train', 'Valid'],\n",
    "    num_boost_round=2000,\n",
    "    early_stopping_rounds=100,\n",
    "    verbose_eval=100,\n",
    ")"
   ]
  },
  {
   "cell_type": "markdown",
   "id": "4239774b",
   "metadata": {
    "papermill": {
     "duration": 0.030232,
     "end_time": "2022-05-21T18:19:09.348239",
     "exception": false,
     "start_time": "2022-05-21T18:19:09.318007",
     "status": "completed"
    },
    "tags": []
   },
   "source": [
    "# Predict Test Data"
   ]
  },
  {
   "cell_type": "code",
   "execution_count": 13,
   "id": "fb2b1384",
   "metadata": {
    "_cell_guid": "8b1add72-b385-4678-a889-5bb33aa0c169",
    "_uuid": "9aca67a3-f911-423c-9bc7-f797eab7b797",
    "collapsed": false,
    "execution": {
     "iopub.execute_input": "2022-05-21T18:19:09.410080Z",
     "iopub.status.busy": "2022-05-21T18:19:09.409669Z",
     "iopub.status.idle": "2022-05-21T18:19:09.432361Z",
     "shell.execute_reply": "2022-05-21T18:19:09.431774Z"
    },
    "jupyter": {
     "outputs_hidden": false
    },
    "papermill": {
     "duration": 0.056073,
     "end_time": "2022-05-21T18:19:09.434368",
     "exception": false,
     "start_time": "2022-05-21T18:19:09.378295",
     "status": "completed"
    },
    "tags": []
   },
   "outputs": [],
   "source": [
    "test_prices = pd.read_csv(Path(file_path, 'example_test_files/stock_prices.csv'))\n",
    "test_prices['date_rank'] = (pd.to_datetime(test_prices['Date']) - min_date).dt.days"
   ]
  },
  {
   "cell_type": "code",
   "execution_count": 14,
   "id": "4c172664",
   "metadata": {
    "_cell_guid": "d78674c3-c556-488e-8062-9006249ba0cc",
    "_uuid": "b163ecdf-eb0b-4525-a469-fc35f5304f4a",
    "collapsed": false,
    "execution": {
     "iopub.execute_input": "2022-05-21T18:19:09.495893Z",
     "iopub.status.busy": "2022-05-21T18:19:09.495502Z",
     "iopub.status.idle": "2022-05-21T18:19:09.663484Z",
     "shell.execute_reply": "2022-05-21T18:19:09.662945Z"
    },
    "jupyter": {
     "outputs_hidden": false
    },
    "papermill": {
     "duration": 0.200818,
     "end_time": "2022-05-21T18:19:09.665337",
     "exception": false,
     "start_time": "2022-05-21T18:19:09.464519",
     "status": "completed"
    },
    "tags": []
   },
   "outputs": [
    {
     "data": {
      "text/plain": [
       "array([0.01272744, 0.00971189, 0.01196305, ..., 0.01427152, 0.01218027,\n",
       "       0.01321785])"
      ]
     },
     "execution_count": 14,
     "metadata": {},
     "output_type": "execute_result"
    }
   ],
   "source": [
    "preds =  model.predict(test_prices[features], num_iteration=model.best_iteration)\n",
    "preds"
   ]
  },
  {
   "cell_type": "code",
   "execution_count": 15,
   "id": "8da6be21",
   "metadata": {
    "_cell_guid": "e76a9d32-df73-49ce-b62d-87869593d8c2",
    "_uuid": "ccb1f9af-9322-4b6a-a6c1-863cce223c6a",
    "collapsed": false,
    "execution": {
     "iopub.execute_input": "2022-05-21T18:19:09.727717Z",
     "iopub.status.busy": "2022-05-21T18:19:09.727272Z",
     "iopub.status.idle": "2022-05-21T18:19:09.739067Z",
     "shell.execute_reply": "2022-05-21T18:19:09.738533Z"
    },
    "jupyter": {
     "outputs_hidden": false
    },
    "papermill": {
     "duration": 0.044904,
     "end_time": "2022-05-21T18:19:09.740682",
     "exception": false,
     "start_time": "2022-05-21T18:19:09.695778",
     "status": "completed"
    },
    "tags": []
   },
   "outputs": [
    {
     "data": {
      "text/plain": [
       "0       1399\n",
       "1       3152\n",
       "2       1991\n",
       "3        538\n",
       "4        920\n",
       "        ... \n",
       "3995     447\n",
       "3996     303\n",
       "3997     301\n",
       "3998    1825\n",
       "3999    1058\n",
       "Length: 4000, dtype: int64"
      ]
     },
     "execution_count": 15,
     "metadata": {},
     "output_type": "execute_result"
    }
   ],
   "source": [
    "pd.Series(preds).fillna(target_mean).rank(ascending = False,method = 'first').astype(int)"
   ]
  },
  {
   "cell_type": "code",
   "execution_count": null,
   "id": "2339c6d1",
   "metadata": {
    "papermill": {
     "duration": 0.030093,
     "end_time": "2022-05-21T18:19:09.801643",
     "exception": false,
     "start_time": "2022-05-21T18:19:09.771550",
     "status": "completed"
    },
    "tags": []
   },
   "outputs": [],
   "source": []
  },
  {
   "cell_type": "markdown",
   "id": "c9aaac7f",
   "metadata": {
    "papermill": {
     "duration": 0.031761,
     "end_time": "2022-05-21T18:19:09.864125",
     "exception": false,
     "start_time": "2022-05-21T18:19:09.832364",
     "status": "completed"
    },
    "tags": []
   },
   "source": [
    "# Submit"
   ]
  },
  {
   "cell_type": "code",
   "execution_count": 16,
   "id": "0ea7b82f",
   "metadata": {
    "_cell_guid": "8f707c77-253c-4cf1-8be4-3b4940c41951",
    "_uuid": "23699a9b-6617-4d50-a339-dff6aa41581a",
    "collapsed": false,
    "execution": {
     "iopub.execute_input": "2022-05-21T18:19:09.926840Z",
     "iopub.status.busy": "2022-05-21T18:19:09.926579Z",
     "iopub.status.idle": "2022-05-21T18:19:10.294473Z",
     "shell.execute_reply": "2022-05-21T18:19:10.293689Z"
    },
    "jupyter": {
     "outputs_hidden": false
    },
    "papermill": {
     "duration": 0.402564,
     "end_time": "2022-05-21T18:19:10.297376",
     "exception": false,
     "start_time": "2022-05-21T18:19:09.894812",
     "status": "completed"
    },
    "tags": []
   },
   "outputs": [
    {
     "name": "stdout",
     "output_type": "stream",
     "text": [
      "This version of the API is not optimized and should not be used to estimate the runtime of your code on the hidden test set.\n",
      "[0.01272744 0.00971189 0.01196305 ... 0.01379705 0.01418634 0.01257441]\n",
      "[0.01293395 0.01009981 0.01185643 ... 0.01427152 0.01218027 0.01321785]\n"
     ]
    }
   ],
   "source": [
    "env = jpx_tokyo_market_prediction.make_env()\n",
    "iter_test = env.iter_test()\n",
    "\n",
    "for (prices, options, financials, trades, secondary_prices, sample_prediction) in iter_test:\n",
    "    prices['date_rank'] = (pd.to_datetime(prices['Date']) - min_date).dt.days\n",
    "    preds = model.predict(prices[features], num_iteration=model.best_iteration)\n",
    "    preds = np.squeeze(preds)\n",
    "    print(preds)\n",
    "    sample_prediction[\"Prediction\"] = preds\n",
    "    sample_prediction = sample_prediction.sort_values(by = \"Prediction\", ascending=False)\n",
    "    sample_prediction.Rank = np.arange(0,2000)\n",
    "    sample_prediction = sample_prediction.sort_values(by = \"SecuritiesCode\", ascending=True)\n",
    "    sample_prediction.drop([\"Prediction\"],axis=1)\n",
    "    submission = sample_prediction[[\"Date\",\"SecuritiesCode\",\"Rank\"]]\n",
    "    env.predict(submission)"
   ]
  },
  {
   "cell_type": "code",
   "execution_count": null,
   "id": "ba74c383",
   "metadata": {
    "papermill": {
     "duration": 0.030883,
     "end_time": "2022-05-21T18:19:10.360672",
     "exception": false,
     "start_time": "2022-05-21T18:19:10.329789",
     "status": "completed"
    },
    "tags": []
   },
   "outputs": [],
   "source": []
  }
 ],
 "metadata": {
  "kernelspec": {
   "display_name": "Python 3",
   "language": "python",
   "name": "python3"
  },
  "language_info": {
   "codemirror_mode": {
    "name": "ipython",
    "version": 3
   },
   "file_extension": ".py",
   "mimetype": "text/x-python",
   "name": "python",
   "nbconvert_exporter": "python",
   "pygments_lexer": "ipython3",
   "version": "3.7.12"
  },
  "papermill": {
   "default_parameters": {},
   "duration": 122.500696,
   "end_time": "2022-05-21T18:19:11.211658",
   "environment_variables": {},
   "exception": null,
   "input_path": "__notebook__.ipynb",
   "output_path": "__notebook__.ipynb",
   "parameters": {},
   "start_time": "2022-05-21T18:17:08.710962",
   "version": "2.3.4"
  }
 },
 "nbformat": 4,
 "nbformat_minor": 5
}
